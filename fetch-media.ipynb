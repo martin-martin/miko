{
 "cells": [
  {
   "cell_type": "code",
   "execution_count": 3,
   "metadata": {
    "collapsed": false
   },
   "outputs": [
    {
     "name": "stdout",
     "output_type": "stream",
     "text": [
      "User: martin.breuss\n"
     ]
    }
   ],
   "source": [
    "import requests\n",
    "from secrets import * # fetch client_secret, user_id and access_token\n",
    "from instagram.client import InstagramAPI\n",
    "\n",
    "api = InstagramAPI(access_token=access_token, client_secret=client_secret)\n",
    "\n",
    "print(api.user(user_id))"
   ]
  },
  {
   "cell_type": "code",
   "execution_count": 4,
   "metadata": {
    "collapsed": false,
    "scrolled": true
   },
   "outputs": [
    {
     "data": {
      "text/plain": [
       "{u'data': {u'bio': u'',\n",
       "  u'counts': {u'followed_by': 0, u'follows': 0, u'media': 4},\n",
       "  u'full_name': u'Martin Breuss',\n",
       "  u'id': u'3584329558',\n",
       "  u'profile_picture': u'https://scontent-ams3-1.cdninstagram.com/t51.2885-19/11906329_960233084022564_1448528159_a.jpg',\n",
       "  u'username': u'martin.breuss',\n",
       "  u'website': u''},\n",
       " u'meta': {u'code': 200}}"
      ]
     },
     "execution_count": 4,
     "metadata": {},
     "output_type": "execute_result"
    }
   ],
   "source": [
    "r = requests.get('https://api.instagram.com/v1/users/self/' +\n",
    "                 '?access_token=' + access_token)\n",
    "r.json()"
   ]
  },
  {
   "cell_type": "code",
   "execution_count": 8,
   "metadata": {
    "collapsed": false
   },
   "outputs": [
    {
     "data": {
      "text/plain": [
       "0"
      ]
     },
     "execution_count": 8,
     "metadata": {},
     "output_type": "execute_result"
    }
   ],
   "source": [
    "user_info = r.json()\n",
    "# get the amount of followers!\n",
    "user_info['data']['counts']['followed_by']"
   ]
  },
  {
   "cell_type": "code",
   "execution_count": 5,
   "metadata": {
    "collapsed": false
   },
   "outputs": [
    {
     "data": {
      "text/plain": [
       "{u'data': [{u'attribution': None,\n",
       "   u'caption': {u'created_time': u'1494009937',\n",
       "    u'from': {u'full_name': u'Martin Breuss',\n",
       "     u'id': u'3584329558',\n",
       "     u'profile_picture': u'https://scontent.cdninstagram.com/t51.2885-19/11906329_960233084022564_1448528159_a.jpg',\n",
       "     u'username': u'martin.breuss'},\n",
       "    u'id': u'17879383624003590',\n",
       "    u'text': u'Attentive ears'},\n",
       "   u'comments': {u'count': 1},\n",
       "   u'created_time': u'1494009937',\n",
       "   u'filter': u'Normal',\n",
       "   u'id': u'1508187125236652080_3584329558',\n",
       "   u'images': {u'low_resolution': {u'height': 320,\n",
       "     u'url': u'https://scontent.cdninstagram.com/t51.2885-15/s320x320/e35/18298656_1143113549168129_2811743594942038016_n.jpg',\n",
       "     u'width': 320},\n",
       "    u'standard_resolution': {u'height': 640,\n",
       "     u'url': u'https://scontent.cdninstagram.com/t51.2885-15/s640x640/sh0.08/e35/18298656_1143113549168129_2811743594942038016_n.jpg',\n",
       "     u'width': 640},\n",
       "    u'thumbnail': {u'height': 150,\n",
       "     u'url': u'https://scontent.cdninstagram.com/t51.2885-15/s150x150/e35/18298656_1143113549168129_2811743594942038016_n.jpg',\n",
       "     u'width': 150}},\n",
       "   u'likes': {u'count': 0},\n",
       "   u'link': u'https://www.instagram.com/p/BTuKDMejFgw/',\n",
       "   u'location': None,\n",
       "   u'tags': [],\n",
       "   u'type': u'image',\n",
       "   u'user': {u'full_name': u'Martin Breuss',\n",
       "    u'id': u'3584329558',\n",
       "    u'profile_picture': u'https://scontent.cdninstagram.com/t51.2885-19/11906329_960233084022564_1448528159_a.jpg',\n",
       "    u'username': u'martin.breuss'},\n",
       "   u'user_has_liked': False,\n",
       "   u'users_in_photo': []},\n",
       "  {u'attribution': None,\n",
       "   u'caption': None,\n",
       "   u'comments': {u'count': 1},\n",
       "   u'created_time': u'1494005682',\n",
       "   u'filter': u'Normal',\n",
       "   u'id': u'1508151436407403444_3584329558',\n",
       "   u'images': {u'low_resolution': {u'height': 320,\n",
       "     u'url': u'https://scontent.cdninstagram.com/t51.2885-15/s320x320/e35/18298734_1347918651910107_8046745095912816640_n.jpg',\n",
       "     u'width': 320},\n",
       "    u'standard_resolution': {u'height': 640,\n",
       "     u'url': u'https://scontent.cdninstagram.com/t51.2885-15/s640x640/sh0.08/e35/18298734_1347918651910107_8046745095912816640_n.jpg',\n",
       "     u'width': 640},\n",
       "    u'thumbnail': {u'height': 150,\n",
       "     u'url': u'https://scontent.cdninstagram.com/t51.2885-15/s150x150/e35/18298734_1347918651910107_8046745095912816640_n.jpg',\n",
       "     u'width': 150}},\n",
       "   u'likes': {u'count': 0},\n",
       "   u'link': u'https://www.instagram.com/p/BTuB72qjvO0/',\n",
       "   u'location': None,\n",
       "   u'tags': [],\n",
       "   u'type': u'image',\n",
       "   u'user': {u'full_name': u'Martin Breuss',\n",
       "    u'id': u'3584329558',\n",
       "    u'profile_picture': u'https://scontent.cdninstagram.com/t51.2885-19/11906329_960233084022564_1448528159_a.jpg',\n",
       "    u'username': u'martin.breuss'},\n",
       "   u'user_has_liked': False,\n",
       "   u'users_in_photo': []},\n",
       "  {u'attribution': None,\n",
       "   u'caption': None,\n",
       "   u'comments': {u'count': 1},\n",
       "   u'created_time': u'1494005600',\n",
       "   u'filter': u'Mayfair',\n",
       "   u'id': u'1508150741847327184_3584329558',\n",
       "   u'images': {u'low_resolution': {u'height': 320,\n",
       "     u'url': u'https://scontent.cdninstagram.com/t51.2885-15/s320x320/e35/18299851_1884870971761670_335851504650944512_n.jpg',\n",
       "     u'width': 320},\n",
       "    u'standard_resolution': {u'height': 640,\n",
       "     u'url': u'https://scontent.cdninstagram.com/t51.2885-15/s640x640/sh0.08/e35/18299851_1884870971761670_335851504650944512_n.jpg',\n",
       "     u'width': 640},\n",
       "    u'thumbnail': {u'height': 150,\n",
       "     u'url': u'https://scontent.cdninstagram.com/t51.2885-15/s150x150/e35/18299851_1884870971761670_335851504650944512_n.jpg',\n",
       "     u'width': 150}},\n",
       "   u'likes': {u'count': 0},\n",
       "   u'link': u'https://www.instagram.com/p/BTuBxvzjUHQ/',\n",
       "   u'location': None,\n",
       "   u'tags': [],\n",
       "   u'type': u'image',\n",
       "   u'user': {u'full_name': u'Martin Breuss',\n",
       "    u'id': u'3584329558',\n",
       "    u'profile_picture': u'https://scontent.cdninstagram.com/t51.2885-19/11906329_960233084022564_1448528159_a.jpg',\n",
       "    u'username': u'martin.breuss'},\n",
       "   u'user_has_liked': False,\n",
       "   u'users_in_photo': []}],\n",
       " u'meta': {u'code': 200},\n",
       " u'pagination': {u'next_max_id': u'1508150741847327184_3584329558',\n",
       "  u'next_url': u'https://api.instagram.com/v1/users/3584329558/media/recent?access_token=3584329558.f3cf99a.94b0e02b4c8946c4924849fcd3fd921f&count=3&max_id=1508150741847327184_3584329558'}}"
      ]
     },
     "execution_count": 5,
     "metadata": {},
     "output_type": "execute_result"
    }
   ],
   "source": [
    "count = 3\n",
    "response = requests.get('https://api.instagram.com/v1/users/self/media/recent/' +\n",
    "                     '?access_token=' + access_token + '&count={}'.format(count))\n",
    "media = response.json()\n",
    "media"
   ]
  },
  {
   "cell_type": "markdown",
   "metadata": {},
   "source": [
    "# get captions (safe)"
   ]
  },
  {
   "cell_type": "code",
   "execution_count": 17,
   "metadata": {
    "collapsed": false
   },
   "outputs": [
    {
     "name": "stdout",
     "output_type": "stream",
     "text": [
      "Attentive ears\n",
      "\n",
      "\n"
     ]
    }
   ],
   "source": [
    "for i in range(len(media['data'])):\n",
    "    try:\n",
    "        print(media['data'][i]['caption']['text'])\n",
    "    # prevent error in case there's no caption and return empty string instead\n",
    "    except:\n",
    "        print(\"\")"
   ]
  },
  {
   "cell_type": "markdown",
   "metadata": {},
   "source": [
    "# get image links"
   ]
  },
  {
   "cell_type": "code",
   "execution_count": 28,
   "metadata": {
    "collapsed": false
   },
   "outputs": [
    {
     "name": "stdout",
     "output_type": "stream",
     "text": [
      "[{u'standard_resolution': u'https://scontent.cdninstagram.com/t51.2885-15/s640x640/sh0.08/e35/18298656_1143113549168129_2811743594942038016_n.jpg',\n",
      "  u'thumbnail': u'https://scontent.cdninstagram.com/t51.2885-15/s150x150/e35/18298656_1143113549168129_2811743594942038016_n.jpg'},\n",
      " {u'standard_resolution': u'https://scontent.cdninstagram.com/t51.2885-15/s640x640/sh0.08/e35/18298734_1347918651910107_8046745095912816640_n.jpg',\n",
      "  u'thumbnail': u'https://scontent.cdninstagram.com/t51.2885-15/s150x150/e35/18298734_1347918651910107_8046745095912816640_n.jpg'},\n",
      " {u'standard_resolution': u'https://scontent.cdninstagram.com/t51.2885-15/s640x640/sh0.08/e35/18299851_1884870971761670_335851504650944512_n.jpg',\n",
      "  u'thumbnail': u'https://scontent.cdninstagram.com/t51.2885-15/s150x150/e35/18299851_1884870971761670_335851504650944512_n.jpg'}]\n"
     ]
    }
   ],
   "source": [
    "from pprint import pprint\n",
    "\n",
    "img_box = list()\n",
    "\n",
    "for i in range(len(media['data'])):\n",
    "    # fetch 'standard' and 'thumbnail' image URLs\n",
    "    all_imgs = media['data'][i]['images']\n",
    "    img_dict = {}\n",
    "    for key, value in all_imgs.items():\n",
    "        if key == \"standard_resolution\" or key == \"thumbnail\":\n",
    "            img_dict[key] = value[\"url\"]\n",
    "    img_box.append(img_dict)\n",
    "\n",
    "pprint(img_box)"
   ]
  }
 ],
 "metadata": {
  "kernelspec": {
   "display_name": "Python 2",
   "language": "python",
   "name": "python2"
  },
  "language_info": {
   "codemirror_mode": {
    "name": "ipython",
    "version": 2
   },
   "file_extension": ".py",
   "mimetype": "text/x-python",
   "name": "python",
   "nbconvert_exporter": "python",
   "pygments_lexer": "ipython2",
   "version": "2.7.10"
  }
 },
 "nbformat": 4,
 "nbformat_minor": 0
}
